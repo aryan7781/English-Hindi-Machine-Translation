{
  "nbformat": 4,
  "nbformat_minor": 0,
  "metadata": {
    "colab": {
      "name": "Hindi-English Machine Translation.ipynb",
      "provenance": [],
      "collapsed_sections": []
    },
    "kernelspec": {
      "name": "python3",
      "display_name": "Python 3"
    },
    "language_info": {
      "name": "python"
    }
  },
  "cells": [
    {
      "cell_type": "markdown",
      "source": [
        "# <p align = \"center\"> **English To Hindi Translation - Transformers**</p>\n",
        "<div align = \"center\">\n",
        "    <img src = \"https://peak-translations.co.uk/wp-content/uploads/2018/06/Creative-Hindi-alphabet-texture-background-2_1180x400_acf_cropped.jpg\">\n",
        "         </img>\n",
        "</div>\n",
        "    "
      ],
      "metadata": {
        "id": "rkqbwrMd9WlG"
      }
    },
    {
      "cell_type": "markdown",
      "source": [
        "### Downloading required Libraries and Text Vocabulary, embeddings and models"
      ],
      "metadata": {
        "id": "HtyXdPRrLncS"
      }
    },
    {
      "cell_type": "code",
      "source": [
        "!pip install fasttext\n",
        "!pip install inltk\n",
        "!pip install gunzip\n",
        "\n",
        "## Shall Clear the outputs for clean notebook"
      ],
      "metadata": {
        "id": "TpR52VQdWDR4"
      },
      "execution_count": 1,
      "outputs": []
    },
    {
      "cell_type": "code",
      "source": [
        "# Download the pretrained Fasttext Embeddings For Hindi Vocabulary\n",
        "! wget https://dl.fbaipublicfiles.com/fasttext/vectors-crawl/cc.hi.300.bin.gz\n",
        "\n",
        "\n",
        "# Download the pretrained Fasttext Embeddings For English Vocabulary\n",
        "! wget https://dl.fbaipublicfiles.com/fasttext/vectors-crawl/cc.en.300.bin.gz\n",
        "\n",
        "## Shall Clear the outputs for clean notebook"
      ],
      "metadata": {
        "id": "23eDHPumaSog"
      },
      "execution_count": 2,
      "outputs": []
    },
    {
      "cell_type": "code",
      "source": [
        "# The downloads are zipped, so they are unzipped to get \".bin\" files\n",
        "\n",
        "! gunzip /content/cc.en.300.bin.gz\n",
        "! gunzip /content/cc.hi.300.bin.gz"
      ],
      "metadata": {
        "id": "sT-so9wkqDWX"
      },
      "execution_count": 3,
      "outputs": []
    },
    {
      "cell_type": "code",
      "execution_count": 4,
      "metadata": {
        "id": "Dgo9-fwv_sEF"
      },
      "outputs": [],
      "source": [
        "import os\n",
        "from google.colab import drive\n",
        "\n",
        "\n",
        "import numpy as np\n",
        "import pandas as pd\n",
        "import tensorflow as tf\n",
        "\n",
        "import fasttext\n",
        "import re"
      ]
    },
    {
      "cell_type": "markdown",
      "source": [
        "### Connecting to Drive"
      ],
      "metadata": {
        "id": "OOhZX7fHBCax"
      }
    },
    {
      "cell_type": "code",
      "source": [
        "# The dataset has been loaded in Google Drive.\n",
        "# Working in Colab, we can't upload the dataset everytime.\n",
        "drive.mount('/content/drive')"
      ],
      "metadata": {
        "id": "hbIV12EFBFgK"
      },
      "execution_count": 5,
      "outputs": []
    },
    {
      "cell_type": "code",
      "source": [
        "datasets_path = '/content/drive/My Drive/Machine Learning Datasets/Hindi-English'\n",
        "data_path = datasets_path + '/data.csv'"
      ],
      "metadata": {
        "id": "hIs-HsE5BI_J"
      },
      "execution_count": 6,
      "outputs": []
    },
    {
      "cell_type": "markdown",
      "source": [
        "### Datasets"
      ],
      "metadata": {
        "id": "UYzArLM4BvRS"
      }
    },
    {
      "cell_type": "code",
      "source": [
        "# Read only the required columns from dataset to save memory\n",
        "# The Embedding Vectors are huge, and working with them would crash the memory, if not used efficiently\n",
        "df = pd.read_csv(data_path, usecols = ['english_sentence', 'hindi_sentence'])               "
      ],
      "metadata": {
        "id": "f5e0u_s_BlOL"
      },
      "execution_count": 7,
      "outputs": []
    },
    {
      "cell_type": "code",
      "source": [
        "df.head(10)"
      ],
      "metadata": {
        "colab": {
          "base_uri": "https://localhost:8080/",
          "height": 363
        },
        "id": "Q5C29DJI_3lf",
        "outputId": "f26b38ea-6e93-42d0-81eb-5d21a0657c64"
      },
      "execution_count": 8,
      "outputs": [
        {
          "output_type": "execute_result",
          "data": {
            "text/plain": [
              "                                    english_sentence  \\\n",
              "0  politicians do not have permission to do what ...   \n",
              "1           id like to tell you about one such child   \n",
              "2  this percentage is even greater than the perce...   \n",
              "3  what we really mean is that theyre bad at not ...   \n",
              "4  the ending portion of these vedas is called up...   \n",
              "5  the then governor of kashmir resisted transfer...   \n",
              "6  in this lies the circumstances of people befor...   \n",
              "7     and who are we to say even that they are wrong   \n",
              "8  “”global warming“” refer to warming caused in ...   \n",
              "9  you may want your child to go to a school that...   \n",
              "\n",
              "                                      hindi_sentence  \n",
              "0  राजनीतिज्ञों के पास जो कार्य करना चाहिए, वह कर...  \n",
              "1  मई आपको ऐसे ही एक बच्चे के बारे में बताना चाहू...  \n",
              "2   यह प्रतिशत भारत में हिन्दुओं प्रतिशत से अधिक है।  \n",
              "3     हम ये नहीं कहना चाहते कि वो ध्यान नहीं दे पाते  \n",
              "4        इन्हीं वेदों का अंतिम भाग उपनिषद कहलाता है।  \n",
              "5  कश्मीर के तत्कालीन गवर्नर ने इस हस्तांतरण का व...  \n",
              "6   इसमें तुमसे पूर्व गुज़रे हुए लोगों के हालात हैं।  \n",
              "7   और हम होते कौन हैं यह कहने भी वाले कि वे गलत हैं  \n",
              "8  ग्लोबल वॉर्मिंग से आशय हाल ही के दशकों में हुई...  \n",
              "9  हो सकता है कि आप चाहते हों कि आप का नऋर्नमेनटे...  "
            ],
            "text/html": [
              "\n",
              "  <div id=\"df-5fa4fe25-5634-4b2f-a08c-d67520a89d9a\">\n",
              "    <div class=\"colab-df-container\">\n",
              "      <div>\n",
              "<style scoped>\n",
              "    .dataframe tbody tr th:only-of-type {\n",
              "        vertical-align: middle;\n",
              "    }\n",
              "\n",
              "    .dataframe tbody tr th {\n",
              "        vertical-align: top;\n",
              "    }\n",
              "\n",
              "    .dataframe thead th {\n",
              "        text-align: right;\n",
              "    }\n",
              "</style>\n",
              "<table border=\"1\" class=\"dataframe\">\n",
              "  <thead>\n",
              "    <tr style=\"text-align: right;\">\n",
              "      <th></th>\n",
              "      <th>english_sentence</th>\n",
              "      <th>hindi_sentence</th>\n",
              "    </tr>\n",
              "  </thead>\n",
              "  <tbody>\n",
              "    <tr>\n",
              "      <th>0</th>\n",
              "      <td>politicians do not have permission to do what ...</td>\n",
              "      <td>राजनीतिज्ञों के पास जो कार्य करना चाहिए, वह कर...</td>\n",
              "    </tr>\n",
              "    <tr>\n",
              "      <th>1</th>\n",
              "      <td>id like to tell you about one such child</td>\n",
              "      <td>मई आपको ऐसे ही एक बच्चे के बारे में बताना चाहू...</td>\n",
              "    </tr>\n",
              "    <tr>\n",
              "      <th>2</th>\n",
              "      <td>this percentage is even greater than the perce...</td>\n",
              "      <td>यह प्रतिशत भारत में हिन्दुओं प्रतिशत से अधिक है।</td>\n",
              "    </tr>\n",
              "    <tr>\n",
              "      <th>3</th>\n",
              "      <td>what we really mean is that theyre bad at not ...</td>\n",
              "      <td>हम ये नहीं कहना चाहते कि वो ध्यान नहीं दे पाते</td>\n",
              "    </tr>\n",
              "    <tr>\n",
              "      <th>4</th>\n",
              "      <td>the ending portion of these vedas is called up...</td>\n",
              "      <td>इन्हीं वेदों का अंतिम भाग उपनिषद कहलाता है।</td>\n",
              "    </tr>\n",
              "    <tr>\n",
              "      <th>5</th>\n",
              "      <td>the then governor of kashmir resisted transfer...</td>\n",
              "      <td>कश्मीर के तत्कालीन गवर्नर ने इस हस्तांतरण का व...</td>\n",
              "    </tr>\n",
              "    <tr>\n",
              "      <th>6</th>\n",
              "      <td>in this lies the circumstances of people befor...</td>\n",
              "      <td>इसमें तुमसे पूर्व गुज़रे हुए लोगों के हालात हैं।</td>\n",
              "    </tr>\n",
              "    <tr>\n",
              "      <th>7</th>\n",
              "      <td>and who are we to say even that they are wrong</td>\n",
              "      <td>और हम होते कौन हैं यह कहने भी वाले कि वे गलत हैं</td>\n",
              "    </tr>\n",
              "    <tr>\n",
              "      <th>8</th>\n",
              "      <td>“”global warming“” refer to warming caused in ...</td>\n",
              "      <td>ग्लोबल वॉर्मिंग से आशय हाल ही के दशकों में हुई...</td>\n",
              "    </tr>\n",
              "    <tr>\n",
              "      <th>9</th>\n",
              "      <td>you may want your child to go to a school that...</td>\n",
              "      <td>हो सकता है कि आप चाहते हों कि आप का नऋर्नमेनटे...</td>\n",
              "    </tr>\n",
              "  </tbody>\n",
              "</table>\n",
              "</div>\n",
              "      <button class=\"colab-df-convert\" onclick=\"convertToInteractive('df-5fa4fe25-5634-4b2f-a08c-d67520a89d9a')\"\n",
              "              title=\"Convert this dataframe to an interactive table.\"\n",
              "              style=\"display:none;\">\n",
              "        \n",
              "  <svg xmlns=\"http://www.w3.org/2000/svg\" height=\"24px\"viewBox=\"0 0 24 24\"\n",
              "       width=\"24px\">\n",
              "    <path d=\"M0 0h24v24H0V0z\" fill=\"none\"/>\n",
              "    <path d=\"M18.56 5.44l.94 2.06.94-2.06 2.06-.94-2.06-.94-.94-2.06-.94 2.06-2.06.94zm-11 1L8.5 8.5l.94-2.06 2.06-.94-2.06-.94L8.5 2.5l-.94 2.06-2.06.94zm10 10l.94 2.06.94-2.06 2.06-.94-2.06-.94-.94-2.06-.94 2.06-2.06.94z\"/><path d=\"M17.41 7.96l-1.37-1.37c-.4-.4-.92-.59-1.43-.59-.52 0-1.04.2-1.43.59L10.3 9.45l-7.72 7.72c-.78.78-.78 2.05 0 2.83L4 21.41c.39.39.9.59 1.41.59.51 0 1.02-.2 1.41-.59l7.78-7.78 2.81-2.81c.8-.78.8-2.07 0-2.86zM5.41 20L4 18.59l7.72-7.72 1.47 1.35L5.41 20z\"/>\n",
              "  </svg>\n",
              "      </button>\n",
              "      \n",
              "  <style>\n",
              "    .colab-df-container {\n",
              "      display:flex;\n",
              "      flex-wrap:wrap;\n",
              "      gap: 12px;\n",
              "    }\n",
              "\n",
              "    .colab-df-convert {\n",
              "      background-color: #E8F0FE;\n",
              "      border: none;\n",
              "      border-radius: 50%;\n",
              "      cursor: pointer;\n",
              "      display: none;\n",
              "      fill: #1967D2;\n",
              "      height: 32px;\n",
              "      padding: 0 0 0 0;\n",
              "      width: 32px;\n",
              "    }\n",
              "\n",
              "    .colab-df-convert:hover {\n",
              "      background-color: #E2EBFA;\n",
              "      box-shadow: 0px 1px 2px rgba(60, 64, 67, 0.3), 0px 1px 3px 1px rgba(60, 64, 67, 0.15);\n",
              "      fill: #174EA6;\n",
              "    }\n",
              "\n",
              "    [theme=dark] .colab-df-convert {\n",
              "      background-color: #3B4455;\n",
              "      fill: #D2E3FC;\n",
              "    }\n",
              "\n",
              "    [theme=dark] .colab-df-convert:hover {\n",
              "      background-color: #434B5C;\n",
              "      box-shadow: 0px 1px 3px 1px rgba(0, 0, 0, 0.15);\n",
              "      filter: drop-shadow(0px 1px 2px rgba(0, 0, 0, 0.3));\n",
              "      fill: #FFFFFF;\n",
              "    }\n",
              "  </style>\n",
              "\n",
              "      <script>\n",
              "        const buttonEl =\n",
              "          document.querySelector('#df-5fa4fe25-5634-4b2f-a08c-d67520a89d9a button.colab-df-convert');\n",
              "        buttonEl.style.display =\n",
              "          google.colab.kernel.accessAllowed ? 'block' : 'none';\n",
              "\n",
              "        async function convertToInteractive(key) {\n",
              "          const element = document.querySelector('#df-5fa4fe25-5634-4b2f-a08c-d67520a89d9a');\n",
              "          const dataTable =\n",
              "            await google.colab.kernel.invokeFunction('convertToInteractive',\n",
              "                                                     [key], {});\n",
              "          if (!dataTable) return;\n",
              "\n",
              "          const docLinkHtml = 'Like what you see? Visit the ' +\n",
              "            '<a target=\"_blank\" href=https://colab.research.google.com/notebooks/data_table.ipynb>data table notebook</a>'\n",
              "            + ' to learn more about interactive tables.';\n",
              "          element.innerHTML = '';\n",
              "          dataTable['output_type'] = 'display_data';\n",
              "          await google.colab.output.renderOutput(dataTable, element);\n",
              "          const docLink = document.createElement('div');\n",
              "          docLink.innerHTML = docLinkHtml;\n",
              "          element.appendChild(docLink);\n",
              "        }\n",
              "      </script>\n",
              "    </div>\n",
              "  </div>\n",
              "  "
            ]
          },
          "metadata": {},
          "execution_count": 8
        }
      ]
    },
    {
      "cell_type": "code",
      "source": [
        "df.info()"
      ],
      "metadata": {
        "colab": {
          "base_uri": "https://localhost:8080/"
        },
        "id": "nYJq1P-VCGN_",
        "outputId": "008b3f44-50d4-4714-de14-864f49e6deca"
      },
      "execution_count": 9,
      "outputs": [
        {
          "output_type": "stream",
          "name": "stdout",
          "text": [
            "<class 'pandas.core.frame.DataFrame'>\n",
            "RangeIndex: 127607 entries, 0 to 127606\n",
            "Data columns (total 2 columns):\n",
            " #   Column            Non-Null Count   Dtype \n",
            "---  ------            --------------   ----- \n",
            " 0   english_sentence  127575 non-null  object\n",
            " 1   hindi_sentence    127607 non-null  object\n",
            "dtypes: object(2)\n",
            "memory usage: 1.9+ MB\n"
          ]
        }
      ]
    },
    {
      "cell_type": "code",
      "source": [
        "df.dropna(inplace = True)"
      ],
      "metadata": {
        "id": "JA4pXjahCHat"
      },
      "execution_count": 10,
      "outputs": []
    },
    {
      "cell_type": "markdown",
      "source": [
        "### Data Cleaning\n",
        "    -> Remove Punctuation Marks"
      ],
      "metadata": {
        "id": "e7z75Sr_UQ0I"
      }
    },
    {
      "cell_type": "code",
      "source": [
        "spec_char_pattern = re.compile(r\"\"\"[।,.@_!#$%^&*()<>?/\\\\|'\"}{~:]\"\"\")\n",
        "df.english_sentence = df.english_sentence.apply(lambda x: spec_char_pattern.sub(\"\", x))\n",
        "df.hindi_sentence = df.hindi_sentence.apply(lambda x: spec_char_pattern.sub(\"\", x))"
      ],
      "metadata": {
        "id": "nmCaeBSfrfWh"
      },
      "execution_count": 11,
      "outputs": []
    },
    {
      "cell_type": "code",
      "source": [
        "df.head()"
      ],
      "metadata": {
        "colab": {
          "base_uri": "https://localhost:8080/",
          "height": 206
        },
        "id": "Dm4vL4cS-vx-",
        "outputId": "d14bcc1e-48a8-4c6a-ac0b-c315666b7ac5"
      },
      "execution_count": 12,
      "outputs": [
        {
          "output_type": "execute_result",
          "data": {
            "text/plain": [
              "                                    english_sentence  \\\n",
              "0  politicians do not have permission to do what ...   \n",
              "1           id like to tell you about one such child   \n",
              "2  this percentage is even greater than the perce...   \n",
              "3  what we really mean is that theyre bad at not ...   \n",
              "4  the ending portion of these vedas is called up...   \n",
              "\n",
              "                                      hindi_sentence  \n",
              "0  राजनीतिज्ञों के पास जो कार्य करना चाहिए वह करन...  \n",
              "1  मई आपको ऐसे ही एक बच्चे के बारे में बताना चाहूंगी  \n",
              "2    यह प्रतिशत भारत में हिन्दुओं प्रतिशत से अधिक है  \n",
              "3     हम ये नहीं कहना चाहते कि वो ध्यान नहीं दे पाते  \n",
              "4         इन्हीं वेदों का अंतिम भाग उपनिषद कहलाता है  "
            ],
            "text/html": [
              "\n",
              "  <div id=\"df-ddcbeff0-8f6c-4075-bf0d-87039de54de4\">\n",
              "    <div class=\"colab-df-container\">\n",
              "      <div>\n",
              "<style scoped>\n",
              "    .dataframe tbody tr th:only-of-type {\n",
              "        vertical-align: middle;\n",
              "    }\n",
              "\n",
              "    .dataframe tbody tr th {\n",
              "        vertical-align: top;\n",
              "    }\n",
              "\n",
              "    .dataframe thead th {\n",
              "        text-align: right;\n",
              "    }\n",
              "</style>\n",
              "<table border=\"1\" class=\"dataframe\">\n",
              "  <thead>\n",
              "    <tr style=\"text-align: right;\">\n",
              "      <th></th>\n",
              "      <th>english_sentence</th>\n",
              "      <th>hindi_sentence</th>\n",
              "    </tr>\n",
              "  </thead>\n",
              "  <tbody>\n",
              "    <tr>\n",
              "      <th>0</th>\n",
              "      <td>politicians do not have permission to do what ...</td>\n",
              "      <td>राजनीतिज्ञों के पास जो कार्य करना चाहिए वह करन...</td>\n",
              "    </tr>\n",
              "    <tr>\n",
              "      <th>1</th>\n",
              "      <td>id like to tell you about one such child</td>\n",
              "      <td>मई आपको ऐसे ही एक बच्चे के बारे में बताना चाहूंगी</td>\n",
              "    </tr>\n",
              "    <tr>\n",
              "      <th>2</th>\n",
              "      <td>this percentage is even greater than the perce...</td>\n",
              "      <td>यह प्रतिशत भारत में हिन्दुओं प्रतिशत से अधिक है</td>\n",
              "    </tr>\n",
              "    <tr>\n",
              "      <th>3</th>\n",
              "      <td>what we really mean is that theyre bad at not ...</td>\n",
              "      <td>हम ये नहीं कहना चाहते कि वो ध्यान नहीं दे पाते</td>\n",
              "    </tr>\n",
              "    <tr>\n",
              "      <th>4</th>\n",
              "      <td>the ending portion of these vedas is called up...</td>\n",
              "      <td>इन्हीं वेदों का अंतिम भाग उपनिषद कहलाता है</td>\n",
              "    </tr>\n",
              "  </tbody>\n",
              "</table>\n",
              "</div>\n",
              "      <button class=\"colab-df-convert\" onclick=\"convertToInteractive('df-ddcbeff0-8f6c-4075-bf0d-87039de54de4')\"\n",
              "              title=\"Convert this dataframe to an interactive table.\"\n",
              "              style=\"display:none;\">\n",
              "        \n",
              "  <svg xmlns=\"http://www.w3.org/2000/svg\" height=\"24px\"viewBox=\"0 0 24 24\"\n",
              "       width=\"24px\">\n",
              "    <path d=\"M0 0h24v24H0V0z\" fill=\"none\"/>\n",
              "    <path d=\"M18.56 5.44l.94 2.06.94-2.06 2.06-.94-2.06-.94-.94-2.06-.94 2.06-2.06.94zm-11 1L8.5 8.5l.94-2.06 2.06-.94-2.06-.94L8.5 2.5l-.94 2.06-2.06.94zm10 10l.94 2.06.94-2.06 2.06-.94-2.06-.94-.94-2.06-.94 2.06-2.06.94z\"/><path d=\"M17.41 7.96l-1.37-1.37c-.4-.4-.92-.59-1.43-.59-.52 0-1.04.2-1.43.59L10.3 9.45l-7.72 7.72c-.78.78-.78 2.05 0 2.83L4 21.41c.39.39.9.59 1.41.59.51 0 1.02-.2 1.41-.59l7.78-7.78 2.81-2.81c.8-.78.8-2.07 0-2.86zM5.41 20L4 18.59l7.72-7.72 1.47 1.35L5.41 20z\"/>\n",
              "  </svg>\n",
              "      </button>\n",
              "      \n",
              "  <style>\n",
              "    .colab-df-container {\n",
              "      display:flex;\n",
              "      flex-wrap:wrap;\n",
              "      gap: 12px;\n",
              "    }\n",
              "\n",
              "    .colab-df-convert {\n",
              "      background-color: #E8F0FE;\n",
              "      border: none;\n",
              "      border-radius: 50%;\n",
              "      cursor: pointer;\n",
              "      display: none;\n",
              "      fill: #1967D2;\n",
              "      height: 32px;\n",
              "      padding: 0 0 0 0;\n",
              "      width: 32px;\n",
              "    }\n",
              "\n",
              "    .colab-df-convert:hover {\n",
              "      background-color: #E2EBFA;\n",
              "      box-shadow: 0px 1px 2px rgba(60, 64, 67, 0.3), 0px 1px 3px 1px rgba(60, 64, 67, 0.15);\n",
              "      fill: #174EA6;\n",
              "    }\n",
              "\n",
              "    [theme=dark] .colab-df-convert {\n",
              "      background-color: #3B4455;\n",
              "      fill: #D2E3FC;\n",
              "    }\n",
              "\n",
              "    [theme=dark] .colab-df-convert:hover {\n",
              "      background-color: #434B5C;\n",
              "      box-shadow: 0px 1px 3px 1px rgba(0, 0, 0, 0.15);\n",
              "      filter: drop-shadow(0px 1px 2px rgba(0, 0, 0, 0.3));\n",
              "      fill: #FFFFFF;\n",
              "    }\n",
              "  </style>\n",
              "\n",
              "      <script>\n",
              "        const buttonEl =\n",
              "          document.querySelector('#df-ddcbeff0-8f6c-4075-bf0d-87039de54de4 button.colab-df-convert');\n",
              "        buttonEl.style.display =\n",
              "          google.colab.kernel.accessAllowed ? 'block' : 'none';\n",
              "\n",
              "        async function convertToInteractive(key) {\n",
              "          const element = document.querySelector('#df-ddcbeff0-8f6c-4075-bf0d-87039de54de4');\n",
              "          const dataTable =\n",
              "            await google.colab.kernel.invokeFunction('convertToInteractive',\n",
              "                                                     [key], {});\n",
              "          if (!dataTable) return;\n",
              "\n",
              "          const docLinkHtml = 'Like what you see? Visit the ' +\n",
              "            '<a target=\"_blank\" href=https://colab.research.google.com/notebooks/data_table.ipynb>data table notebook</a>'\n",
              "            + ' to learn more about interactive tables.';\n",
              "          element.innerHTML = '';\n",
              "          dataTable['output_type'] = 'display_data';\n",
              "          await google.colab.output.renderOutput(dataTable, element);\n",
              "          const docLink = document.createElement('div');\n",
              "          docLink.innerHTML = docLinkHtml;\n",
              "          element.appendChild(docLink);\n",
              "        }\n",
              "      </script>\n",
              "    </div>\n",
              "  </div>\n",
              "  "
            ]
          },
          "metadata": {},
          "execution_count": 12
        }
      ]
    },
    {
      "cell_type": "markdown",
      "source": [
        "### Text Vectorization\n",
        "    -> Give a unique integral identity to each word in both English and Hindi Corpuses.\n",
        "    -> Convert the texts into vectors, with the respective integers representing the words"
      ],
      "metadata": {
        "id": "uyp6NCEAUlsO"
      }
    },
    {
      "cell_type": "code",
      "source": [
        "def get_text_vectorizer(text_ds):\n",
        "\n",
        "    # A tensorflow Layer that maps words in the given text to integer based on the vocabulary it has\n",
        "    text_vectorizer = tf.keras.layers.TextVectorization()\n",
        "    \n",
        "    # Since we don't allready have a vocab, we let our TextVectorization Layer to adapt to our dataset\n",
        "    text_vectorizer.adapt(text_ds)\n",
        "\n",
        "    # After adapting to the dataset, the layer sorts the words based on their frequencies to get a vocabulary\n",
        "    vocab = text_vectorizer.get_vocabulary()\n",
        "\n",
        "    # The layer doesn't have a function to give us indices for the words, so we create a dictionary as it shall be used frequently\n",
        "    word_index = dict(zip(vocab, range(len(vocab))))\n",
        "    print(\"Total Number of Unique words in the text -\", len(vocab))\n",
        "    return word_index, text_vectorizer"
      ],
      "metadata": {
        "id": "U-lBSQosFdr8"
      },
      "execution_count": 13,
      "outputs": []
    },
    {
      "cell_type": "code",
      "source": [
        "eng_word_index, eng_vectorizer = get_text_vectorizer(df.english_sentence)\n",
        "hin_word_index, hin_vectorizer = get_text_vectorizer(df.hindi_sentence)"
      ],
      "metadata": {
        "colab": {
          "base_uri": "https://localhost:8080/"
        },
        "id": "FcoHp5cVAHtu",
        "outputId": "8a2fc251-a4fb-46f8-c199-8e43ea5a08b2"
      },
      "execution_count": 14,
      "outputs": [
        {
          "output_type": "stream",
          "name": "stdout",
          "text": [
            "Total Number of Unique words in the text - 76774\n",
            "Total Number of Unique words in the text - 84467\n"
          ]
        }
      ]
    },
    {
      "cell_type": "code",
      "source": [
        "feature = eng_vectorizer(df.english_sentence)               # English Sentences\n",
        "target = hin_vectorizer(df.hindi_sentence)                  # Hindi Sentences\n",
        "\n",
        "np.save((datasets_path + '/English_vectorized.npy'), feature.numpy())\n",
        "np.save((datasets_path + '/Hindi_vectorized.npy'), target.numpy())"
      ],
      "metadata": {
        "id": "1a45NU3SNf8t"
      },
      "execution_count": 15,
      "outputs": []
    },
    {
      "cell_type": "markdown",
      "source": [
        "### Embedding Vectors For Our Vocabulary"
      ],
      "metadata": {
        "id": "Fki_o-TlVaqy"
      }
    },
    {
      "cell_type": "code",
      "source": [
        "embedding_dims = 300\n",
        "hindi_embed_model = fasttext.load_model('/content/cc.hi.300.bin')\n",
        "english_embed_model = fasttext.load_model('/content/cc.en.300.bin')"
      ],
      "metadata": {
        "id": "IrsdPsf-dt2v"
      },
      "execution_count": null,
      "outputs": []
    },
    {
      "cell_type": "code",
      "source": [
        "def get_embedding_matrix(word_index, embedding_model):\n",
        "    num_tokens = len(word_index) + 2\n",
        "\n",
        "    embedding_matrix = np.zeros((num_tokens, embedding_dims), dtype = np.float32)\n",
        "    \n",
        "    for word, idx in word_index.items():\n",
        "        emb_vector = embedding_model.get_word_vector(word)\n",
        "        embedding_matrix[idx] = emb_vector\n",
        "\n",
        "    return embedding_matrix\n"
      ],
      "metadata": {
        "id": "zSrCID7YR4f5"
      },
      "execution_count": 17,
      "outputs": []
    },
    {
      "cell_type": "code",
      "source": [
        "eng_embedding_matrix = get_embedding_matrix(eng_word_index, english_embed_model)\n",
        "hin_embedding_matrix = get_embedding_matrix(hin_word_index, hindi_embed_model)"
      ],
      "metadata": {
        "id": "S_ct43gKfs40"
      },
      "execution_count": 19,
      "outputs": []
    },
    {
      "cell_type": "code",
      "source": [
        "np.save((datasets_path + '/English_embedding_matrix.npy'), eng_embedding_matrix)\n",
        "np.save((datasets_path + '/Hindi_embedding_matrix.npy'), hin_embedding_matrix)\n"
      ],
      "metadata": {
        "id": "hS5hx6JQZWyu"
      },
      "execution_count": 20,
      "outputs": []
    },
    {
      "cell_type": "markdown",
      "source": [
        "# END"
      ],
      "metadata": {
        "id": "ZGBaTe56grza"
      }
    }
  ]
}